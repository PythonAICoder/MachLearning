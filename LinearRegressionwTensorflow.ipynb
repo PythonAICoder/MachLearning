{
  "nbformat": 4,
  "nbformat_minor": 0,
  "metadata": {
    "colab": {
      "name": "LinearRegressionwTensorflow.ipynb",
      "provenance": [],
      "toc_visible": true,
      "authorship_tag": "ABX9TyMPNqpt+cXYFOTy1mK5FQT4",
      "include_colab_link": true
    },
    "kernelspec": {
      "name": "python3",
      "display_name": "Python 3"
    }
  },
  "cells": [
    {
      "cell_type": "markdown",
      "metadata": {
        "id": "view-in-github",
        "colab_type": "text"
      },
      "source": [
        "<a href=\"https://colab.research.google.com/github/PythonAICoder/MachLearning/blob/master/LinearRegressionwTensorflow.ipynb\" target=\"_parent\"><img src=\"https://colab.research.google.com/assets/colab-badge.svg\" alt=\"Open In Colab\"/></a>"
      ]
    },
    {
      "cell_type": "markdown",
      "metadata": {
        "id": "pFjaDOznyCK3",
        "colab_type": "text"
      },
      "source": [
        "# Linear Regression with Tensorflow2.0\n"
      ]
    },
    {
      "cell_type": "code",
      "metadata": {
        "id": "69SOx-ftyNSo",
        "colab_type": "code",
        "outputId": "063aa451-d3b9-4253-9ff1-2291a5983491",
        "colab": {
          "base_uri": "https://localhost:8080/",
          "height": 71
        }
      },
      "source": [
        "#Importing nessesscary packages\n",
        "import tensorflow as tf\n",
        "import numpy as np\n",
        "import matplotlib.pyplot as plt\n",
        "import pandas as pd\n",
        "from pandas_datareader import data\n",
        "import datetime\n",
        "import time\n",
        "import random"
      ],
      "execution_count": 2,
      "outputs": [
        {
          "output_type": "stream",
          "text": [
            "/usr/local/lib/python3.6/dist-packages/pandas_datareader/compat/__init__.py:7: FutureWarning: pandas.util.testing is deprecated. Use the functions in the public API at pandas.testing instead.\n",
            "  from pandas.util.testing import assert_frame_equal\n"
          ],
          "name": "stderr"
        }
      ]
    },
    {
      "cell_type": "code",
      "metadata": {
        "id": "bDH8YZWpyfU3",
        "colab_type": "code",
        "colab": {}
      },
      "source": [
        "plt.style.use(\"fivethirtyeight\")\n",
        "tf.compat.v1.disable_eager_execution()\n",
        "\n",
        "###EQUATION: ############### y=-7.018333333333211e-06x+10254.897027666497 #############\n",
        "##############################OR y=4.120264489871436e-06x + -5250.689416195902#########\n",
        "# n_samples = 30\n",
        "epochs = 200\n",
        "training_rate = 0.01\n",
        "n_samples = 1570"
      ],
      "execution_count": 0,
      "outputs": []
    },
    {
      "cell_type": "markdown",
      "metadata": {
        "id": "gLPLcWSi1G2O",
        "colab_type": "text"
      },
      "source": [
        "###I scale my data between 0 and 1 to make it easier for the optimizer to give an accurate result\n",
        "\n",
        "\n",
        "\n",
        "> I can do this by adding a new column(\"Scale CLose\"). I divide each y value by the largest y value in the set to make the Close a decimal between 0 and 1\n",
        "\n",
        "```\n",
        "data['<Column>'] = data['<y_values>'].apply(lambda close: close/<y_set>.max() or max(<y_set>))\n",
        "```\n",
        "\n",
        "\n",
        "\n",
        "\n",
        "\n"
      ]
    },
    {
      "cell_type": "code",
      "metadata": {
        "id": "ATQDrHhd0MJF",
        "colab_type": "code",
        "outputId": "d30ebbb5-5584-405c-f20f-789b1802a2ab",
        "colab": {
          "base_uri": "https://localhost:8080/",
          "height": 299
        }
      },
      "source": [
        "start_date = '2013-12-01'\n",
        "end_date = '2020-03-01'\n",
        "# Set the ticker\n",
        "ticker = 'GOOGL'\n",
        "# Get the data\n",
        "data = data.get_data_yahoo(ticker, start_date, end_date)\n",
        "\n",
        "data.reset_index(level=0, inplace=True)\n",
        "#data.to_csv(\"stocks.csv\")\n",
        "data = data.iloc[::-1]\n",
        "\n",
        "\n",
        "# x= np.linspace(0,1570,100)\n",
        "# y = 4.120264489871436e-06*x + -5250.689416195902\n",
        "# plt.plot(x,y)\n",
        "\n",
        "#plt.show()\n",
        "\n",
        "print(data.shape)\n",
        "# test_x = np.linspace(0,35, n_samples)\n",
        "# test_y = 5* test_x + 5 * np.random.randn(n_samples)\n",
        "\n",
        "# plt.plot(test_x, test_y, 'o')\n",
        "data['Timestamp'] = data['Date'].apply(lambda date: time.mktime(datetime.datetime.strptime(str(date),\"%Y-%m-%d %H:%M:%S\").timetuple()))\n",
        "data['Scale Close'] = data['Close'].apply(lambda close: close/data[\"Close\"].max())\n",
        "data['Scale Close'].plot()\n",
        "test_x = data['Timestamp']\n",
        "test_y = data[\"Scale Close\"]"
      ],
      "execution_count": 4,
      "outputs": [
        {
          "output_type": "stream",
          "text": [
            "(1571, 7)\n"
          ],
          "name": "stdout"
        },
        {
          "output_type": "display_data",
          "data": {
            "image/png": "[encoded data removed]",
            "text/plain": [
              "<Figure size 432x288 with 1 Axes>"
            ]
          },
          "metadata": {
            "tags": []
          }
        }
      ]
    },
    {
      "cell_type": "code",
      "metadata": {
        "id": "o62c2P1v0TJs",
        "colab_type": "code",
        "outputId": "7ad3c600-36f7-4b62-f982-9cdfe19367e4",
        "colab": {
          "base_uri": "https://localhost:8080/",
          "height": 88
        }
      },
      "source": [
        "X = tf.compat.v1.placeholder(tf.float32)\n",
        "Y = tf.compat.v1.placeholder(tf.float32)\n",
        "\n",
        "W = tf.Variable(1, name = \"weights\", dtype=tf.float32)\n",
        "B = tf.Variable(0, name = \"bias\", dtype=tf.float32)\n",
        "\n",
        "# x = np.linspace(0,1570,100)\n",
        "# plt.plot(x, W*x + B)\n",
        "# plt.show()\n",
        "\n",
        "pred = tf.math.add( tf.math.multiply(X,W), B)"
      ],
      "execution_count": 5,
      "outputs": [
        {
          "output_type": "stream",
          "text": [
            "WARNING:tensorflow:From /usr/local/lib/python3.6/dist-packages/tensorflow/python/ops/resource_variable_ops.py:1666: calling BaseResourceVariable.__init__ (from tensorflow.python.ops.resource_variable_ops) with constraint is deprecated and will be removed in a future version.\n",
            "Instructions for updating:\n",
            "If using Keras pass *_constraint arguments to layers.\n"
          ],
          "name": "stdout"
        }
      ]
    },
    {
      "cell_type": "markdown",
      "metadata": {
        "id": "15p_IV0-9Duu",
        "colab_type": "text"
      },
      "source": [
        "># $(∞∑(n=0)) * 2^n = -1$\n",
        "\n",
        "\n",
        "### **This is the cost function used for measuring the preformance of our model for Linear Regression. This is used below:**"
      ]
    },
    {
      "cell_type": "code",
      "metadata": {
        "id": "mHnWD0En0bhB",
        "colab_type": "code",
        "colab": {}
      },
      "source": [
        "cost = tf.reduce_sum((pred - Y) ** 2) / (2 * n_samples)"
      ],
      "execution_count": 0,
      "outputs": []
    },
    {
      "cell_type": "markdown",
      "metadata": {
        "id": "qViLHxM982nR",
        "colab_type": "text"
      },
      "source": [
        "### Using Adam Optimizer"
      ]
    },
    {
      "cell_type": "code",
      "metadata": {
        "id": "svGtCLfa0enO",
        "colab_type": "code",
        "outputId": "5613b520-ed97-4935-9993-3e434862d263",
        "colab": {
          "base_uri": "https://localhost:8080/",
          "height": 224
        }
      },
      "source": [
        "\n",
        "print('Weight',W, 'bias', B,'Prediction',pred,'Cost Function',cost)\n",
        "\n",
        "optimizer = tf.compat.v1.train.AdamOptimizer(training_rate).minimize(cost)\n",
        "\n",
        "init = tf.compat.v1.global_variables_initializer()\n",
        "\n",
        "try:\n",
        "    with tf.compat.v1.Session() as sess:\n",
        "        sess.run(init)\n",
        "        start = time.time()\n",
        "\n",
        "        for epoch in range(epochs):\n",
        "            inepoch = time.time()\n",
        "\n",
        "            for index, row in data.iterrows():\n",
        "                sess.run(optimizer, feed_dict={X:test_x[index],Y:test_y[index]})\n",
        "                afopt = time.time()\n",
        "            c = sess.run(cost, feed_dict = {X:test_x[epoch], Y:test_y[epoch]})\n",
        "            w = sess.run(W)\n",
        "            b = sess.run(B)\n",
        "            if not epoch % 20:\n",
        "                print('Took',str(int(afopt-inepoch)),'seconds to run optimizer')\n",
        "                if epoch > 20:\n",
        "                    print('Every ten epochs, prog takes',str(evten-inepoch),'seconds')\n",
        "                print('epoch:',epoch,'c=',c,'w=', w,'b=', b)\n",
        "                evten = time.time()\n",
        "                \n",
        "        #plt.plot(test_x, test_y, 'o')\n",
        "        #plt.plot(test_x, 5 * test_x + 5, label = \"Answer\")\n",
        "        \n",
        "        weight = sess.run(W)\n",
        "        bias = sess.run(B)\n",
        "        print('weight, bias=', weight, bias)\n",
        "\n",
        "        # learned_answer = []\n",
        "        # for items in test_x.iteritems():\n",
        "        #     items = np.float32(items)\n",
        "        #     learned_answer.append(items*weight + bias)\n",
        "        # learn = pd.DataFrame({'Learned Answer': learned_answer})\n",
        "\n",
        "        \n",
        "        data['Learned Answer'] = test_x.apply(lambda stamp: weight * stamp + bias)\n",
        "\n",
        "        end = time.time()\n",
        "        print('Took',str(int(end-start)/60),'minutes long')\n",
        "\n",
        "        print(data[\"Learned Answer\"])\n",
        "\n",
        "        data['Learned Answer'].plot()\n",
        "        \n",
        "        plt.legend()\n",
        "        plt.show()\n",
        "\n",
        "        test_date = '2025-01-01 00:00:00'\n",
        "        timestamp = time.mktime(datetime.datetime.strptime(test_date,\"%Y-%m-%d %H:%M:%S\").timetuple())\n",
        "\n",
        "        answer = timestamp * weight + bias\n",
        "        print('Stock in',test_date,'will most likely be',answer*data['Close'].max())\n",
        "        print(data)\n",
        "except KeyboardInterrupt or Exception as e:\n",
        "    if Exception:\n",
        "        print(e)\n",
        "    if KeyboardInterrupt:\n",
        "        exit()"
      ],
      "execution_count": 0,
      "outputs": [
        {
          "output_type": "stream",
          "text": [
            "Weight <tf.Variable 'weights:0' shape=() dtype=float32> bias <tf.Variable 'bias:0' shape=() dtype=float32> Prediction Tensor(\"Add:0\", dtype=float32) Cost Function Tensor(\"truediv:0\", shape=(), dtype=float32)\n",
            "Took 1 seconds to run optimizer\n",
            "epoch: 0 c= 3.529017e-08 w= 9.809961e-10 b= -1.0029706\n",
            "Took 1 seconds to run optimizer\n",
            "epoch: 20 c= 2.3465672 w= 6.28104e-08 b= -1.0027915\n",
            "Took 1 seconds to run optimizer\n",
            "Every ten epochs, prog takes -21.374086618423462 seconds\n",
            "epoch: 40 c= 0.44363883 w= 2.78189e-08 b= -1.0012766\n",
            "Took 1 seconds to run optimizer\n",
            "Every ten epochs, prog takes -21.306434869766235 seconds\n",
            "epoch: 60 c= 0.034059327 w= -6.41484e-09 b= -1.0031052\n"
          ],
          "name": "stdout"
        }
      ]
    },
    {
      "cell_type": "markdown",
      "metadata": {
        "id": "F332p1DS0tGe",
        "colab_type": "text"
      },
      "source": [
        "##Testing Code on stock most likely be in January 1st 2025\n",
        "\n",
        "\n",
        "\n",
        "```\n",
        "test_date = '2025-01-01 00:00:00'\n",
        "timestamp = time.mktime(datetime.datetime.strptime(test_date,\"%Y-%m-%d %H:%M:%S\").timetuple())\n",
        "\n",
        "answer = timestamp * weight + bias\n",
        "print('Stock in',test_date,'will most likely be',answer*data['Close'].max())\n",
        "print(data)\n",
        "```\n",
        "\n"
      ]
    }
  ]
}