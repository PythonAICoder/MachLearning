{
 "cells": [
  {
   "cell_type": "code",
   "execution_count": null,
   "metadata": {},
   "outputs": [],
   "source": [
    "import tensorflow as tf\n",
    "import numpy as np\n",
    "import matplotlib.pyplot as plt\n",
    "\n",
    "plt.style.use(\"fivethirtyeight\")\n",
    "tf.compat.v1.disable_eager_execution()"
   ]
  },
  {
   "cell_type": "code",
   "execution_count": null,
   "metadata": {},
   "outputs": [],
   "source": [
    "n_samples = 300\n",
    "epochs = 1000\n",
    "training_rate = 0.01\n",
    "\n",
    "test_x = np.linspace(0,35, n_samples)\n",
    "test_y = 5* test_x + 5 * np.random.randn(n_samples)\n",
    "\n",
    "plt.plot(test_x, test_y, 'o')\n",
    "\n",
    "plt.show()"
   ]
  },
  {
   "cell_type": "code",
   "execution_count": null,
   "metadata": {},
   "outputs": [],
   "source": [
    "X = tf.compat.v1.placeholder(tf.float32)\n",
    "Y = tf.compat.v1.placeholder(tf.float32)\n",
    "\n",
    "W = tf.Variable(np.random.randn(), name = \"weights\")\n",
    "B = tf.Variable(np.random.randn(), name = \"bias\")\n",
    "\n",
    "pred = X*W + B\n",
    "\n",
    "cost = tf.reduce_sum((pred - Y) ** 2) / (2 * n_samples)"
   ]
  },
  {
   "cell_type": "code",
   "execution_count": null,
   "metadata": {},
   "outputs": [],
   "source": [
    "optimizer = tf.compat.v1.train.GradientDescentOptimizer(training_rate).minimize(cost)"
   ]
  },
  {
   "cell_type": "code",
   "execution_count": null,
   "metadata": {},
   "outputs": [],
   "source": [
    "init = tf.compat.v1.global_variables_initializer()\n",
    "\n",
    "with tf.compat.v1.Session() as sess:\n",
    "    sess.run(init)\n",
    "    \n",
    "    for epoch in range(epochs):\n",
    "        for x, y in zip(test_x, test_y):\n",
    "            sess.run(optimizer, feed_dict={X:x,Y:y})\n",
    "            \n",
    "        if not epoch % 20:\n",
    "            c = sess.run(cost, feed_dict = {X:test_x, Y:test_y})\n",
    "            w = sess.run(W)\n",
    "            b = sess.run(B)\n",
    "            print 'epoch:',epoch,'c=', c,'w=', w,'b=', b\n",
    "            \n",
    "    plt.plot(test_x, test_y, 'X')\n",
    "    #plt.plot(test_x, 5 * test_x + 5, label = \"Answer\")\n",
    "    \n",
    "    weight = sess.run(W)\n",
    "    bias = sess.run(B)\n",
    "    plt.plot(test_x, weight * test_x + bias, label = \"Learned Answer\")\n",
    "    \n",
    "    plt.legend()\n",
    "    plt.show()"
   ]
  },
  {
   "cell_type": "code",
   "execution_count": null,
   "metadata": {},
   "outputs": [],
   "source": []
  }
 ],
 "metadata": {
  "kernelspec": {
   "display_name": "Python 2",
   "language": "python",
   "name": "python2"
  },
  "language_info": {
   "codemirror_mode": {
    "name": "ipython",
    "version": 2
   },
   "file_extension": ".py",
   "mimetype": "text/x-python",
   "name": "python",
   "nbconvert_exporter": "python",
   "pygments_lexer": "ipython2",
   "version": "2.7.16"
  }
 },
 "nbformat": 4,
 "nbformat_minor": 2
}
